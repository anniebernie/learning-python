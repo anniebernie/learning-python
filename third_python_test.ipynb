{
  "nbformat": 4,
  "nbformat_minor": 0,
  "metadata": {
    "colab": {
      "provenance": []
    },
    "kernelspec": {
      "name": "python3",
      "display_name": "Python 3"
    },
    "language_info": {
      "name": "python"
    }
  },
  "cells": [
    {
      "cell_type": "code",
      "execution_count": 3,
      "metadata": {
        "colab": {
          "base_uri": "https://localhost:8080/"
        },
        "id": "WhHzx3vGCjoV",
        "outputId": "a0a97fdb-fb98-49c3-b201-018576e228fe"
      },
      "outputs": [
        {
          "output_type": "stream",
          "name": "stdout",
          "text": [
            "1\n",
            "33.8\n",
            "2\n",
            "35.6\n"
          ]
        }
      ],
      "source": [
        "# Une fonction qui convertie le celcius en Fahrenheit\n",
        "\n",
        "def temperature (celcius):\n",
        "  \n",
        "  print(celcius)\n",
        "  \n",
        "  farhenheit = ( celcius * (9/5) ) + 32\n",
        "  print(farhenheit)\n",
        "\n",
        "  return [celcius, farhenheit]\n",
        "\n",
        "b = temperature(1)\n",
        "\n",
        "c = temperature(2)"
      ]
    },
    {
      "cell_type": "code",
      "source": [
        "d = temperature(0)"
      ],
      "metadata": {
        "colab": {
          "base_uri": "https://localhost:8080/"
        },
        "id": "0PT8IczQEME7",
        "outputId": "214991e3-e906-4179-ab0b-8a4bae13f6f4"
      },
      "execution_count": 4,
      "outputs": [
        {
          "output_type": "stream",
          "name": "stdout",
          "text": [
            "0\n",
            "32.0\n"
          ]
        }
      ]
    },
    {
      "cell_type": "code",
      "source": [
        "def temp_(temperature, temperature_unit=\"c\", conversion_unit=\"f\"):\n",
        "  temperature = float(temperature)\n",
        "  conversion = 0.0\n",
        "\n",
        "  if (temperature_unit==\"c\") and (conversion_unit==\"f\"):\n",
        "    conversion = ( temperature*(9/5) ) + 32\n",
        "\n",
        "  elif (temperature_unit==\"c\") and (conversion_unit==\"k\"):\n",
        "    conversion = temperature + 273.15\n",
        "\n",
        "  elif (temperature_unit==\"c\") and (conversion_unit==\"c\"):\n",
        "    conversion = temperature\n",
        "\n",
        "  elif (temperature_unit==\"f\") and (conversion_unit==\"c\"):\n",
        "    conversion = ( temperature - 32 ) / (9/5)\n",
        "\n",
        "  elif (temperature_unit==\"f\") and (conversion_unit==\"k\"):\n",
        "    conversion = (( temperature - 32 ) / (9/5) ) + 273.15\n",
        "\n",
        "  elif (temperature_unit==\"f\") and (conversion_unit==\"f\"):\n",
        "    conversion = temperature\n",
        "\n",
        "  elif (temperature_unit==\"k\") and (conversion_unit==\"c\"):\n",
        "    conversion = temperature - 273.15 \n",
        "\n",
        "  elif (temperature_unit==\"k\") and (conversion_unit==\"f\"):\n",
        "    kelvin_celcius = temperature -  273.15\n",
        "    conversion = ( kelvin_celcius*(9/5) ) + 32\n",
        "\n",
        "  elif (temperature_unit==\"k\") and (conversion_unit==\"k\"):\n",
        "    conversion = temperature\n",
        "\n",
        "  else:\n",
        "    print(\"Erreur!\")\n",
        "\n",
        "  \n",
        "  return [temperature, temperature_unit, conversion, conversion_unit]\n"
      ],
      "metadata": {
        "id": "z4YbRBoxHabj"
      },
      "execution_count": 1,
      "outputs": []
    },
    {
      "cell_type": "code",
      "source": [
        "print(temp_(12, \"c\", \"c\"))"
      ],
      "metadata": {
        "colab": {
          "base_uri": "https://localhost:8080/"
        },
        "id": "y0j4-LhmMlPy",
        "outputId": "521cd05b-6b9b-4e8f-cea9-385d997493b8"
      },
      "execution_count": 2,
      "outputs": [
        {
          "output_type": "stream",
          "name": "stdout",
          "text": [
            "[12.0, 'c', 12.0, 'c']\n"
          ]
        }
      ]
    },
    {
      "cell_type": "code",
      "source": [
        "print(temp_(12, \"k\", \"c\"))"
      ],
      "metadata": {
        "colab": {
          "base_uri": "https://localhost:8080/"
        },
        "id": "JmvsgMN_OCEB",
        "outputId": "8f604e8c-7580-4a36-d9bd-514503983691"
      },
      "execution_count": 4,
      "outputs": [
        {
          "output_type": "stream",
          "name": "stdout",
          "text": [
            "[12.0, 'k', -261.15, 'c']\n"
          ]
        }
      ]
    },
    {
      "cell_type": "code",
      "source": [
        "print(temp_(12, \"p\", \"c\"))"
      ],
      "metadata": {
        "colab": {
          "base_uri": "https://localhost:8080/"
        },
        "id": "0bLWoQPfOV9B",
        "outputId": "682f0d59-d61f-4c38-967d-17359cf8d92c"
      },
      "execution_count": 5,
      "outputs": [
        {
          "output_type": "stream",
          "name": "stdout",
          "text": [
            "Erreur!\n",
            "[12.0, 'p', 0.0, 'c']\n"
          ]
        }
      ]
    },
    {
      "cell_type": "code",
      "source": [],
      "metadata": {
        "id": "lNuSAENOOl32"
      },
      "execution_count": null,
      "outputs": []
    }
  ]
}